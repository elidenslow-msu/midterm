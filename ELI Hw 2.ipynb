{
 "cells": [
  {
   "cell_type": "markdown",
   "id": "551a7128-acad-4dd2-a55c-1ec6bcd11780",
   "metadata": {
    "tags": []
   },
   "source": [
    "### <p style=\"text-align: right;\"> &#9989; Eli Denslow</p>\n",
    "### <p style=\"text-align: right;\"> &#9989; elidenslow-msu</p>"
   ]
  },
  {
   "cell_type": "markdown",
   "id": "92a96ec6-b7d2-4db0-9320-32393f7a8c5a",
   "metadata": {
    "jp-MarkdownHeadingCollapsed": true,
    "tags": []
   },
   "source": [
    "### Goals for this homework assignment\n",
    "By the end of this assignment, you should be able to:\n",
    "- Write a generalizable class to store data\n",
    "- Write subclasses that inherit general variables and methods from a parent class\n",
    "- Identify key pieces of information that need to be stored as class variables\n",
    "- Write methods that fetch and modify class variables \n",
    "- Write a function that instantiates new objects given some initial set of parameters\n",
    "\n",
    "Work through the following assignment, making sure to follow all of the directions and answer all of the questions.\n",
    "\n",
    "There are **62 points** possible on this assignment. Point values for each part are included in the section headers and question prompts.\n",
    "\n",
    "**This assignment is due in roughly two weeks from now at 11:59 pm on Friday, October 7th.** It should be uploaded into the \"Homework Assignments\" submission folder for Homework #2.  Submission instructions can be found at the end of the notebook."
   ]
  },
  {
   "cell_type": "markdown",
   "id": "509920a9-f9f8-45cf-8bc9-c427386a6369",
   "metadata": {},
   "source": [
    "---\n",
    "## Part 0: Add to your Git repository to track your progress on your assignment (5 points)\n",
    "\n",
    "For this assignment, you're going to add it to the `cmse202-f22-turnin` repository you created in class so that you can track your progress on the assignment and preserve the final version that you turn in. In order to do this you need to\n",
    "\n",
    "**&#9989; Do the following**:\n",
    "\n",
    "1. Navigate to your `cmse202-f22-turnin` repository and create a new directory called `hw-02`.\n",
    "2. Move this notebook into that **new directory** in your repository, then **add it and commit it to your repository**.\n",
    "1. Finally, to test that everything is working, \"git push\" the file so that it ends up in your GitHub repository.\n",
    "\n",
    "**Important**: Double check you've added your Professor and your TA as collaborators to your \"turnin\" repository (you should have done this in the previous homework assignment).\n",
    "\n",
    "**Also important**: Make sure that the version of this notebook that you are working on is the same one that you just added to your repository! If you are working on a different copy of the notebook, **none of your changes will be tracked**!\n",
    "\n",
    "If everything went as intended, the file should now show up on your GitHub account in the \"`cmse202-f22-turnin`\" repository inside the `hw-02` directory that you just created.  Periodically, **you'll be asked to commit your changes to the repository and push them to the remote GitHub location**. Of course, you can always commit your changes more often than that, if you wish.  It can be good to get into a habit of committing your changes any time you make a significant modification, or when you stop working on the project for a bit.\n",
    "\n",
    "&#9989; **Do this**: Before you move on, put the command that your instructor should run to clone your repository in the markdown cell below."
   ]
  },
  {
   "cell_type": "markdown",
   "id": "b2153390-6686-464b-83e4-6c97d4115138",
   "metadata": {},
   "source": []
  },
  {
   "cell_type": "markdown",
   "id": "472e909c-763c-4019-bf12-2b7c23a6abf1",
   "metadata": {
    "tags": []
   },
   "source": [
    "# Using Classes to Store Data\n",
    "\n",
    "\n",
    "One of the primary ways that classes are used is to organize datasets in a way that is both easy to manipulate and key pieces of information are easily accessible. \n",
    "\n",
    "For this homework assignment, you will be: \n",
    "1. **Creating your own class to encapsulate a dataset**\n",
    "2. **Using that class to create sub-classes**\n",
    "2. **Applying your class(es) to a real data set by creating object instances**\n",
    "2. **Using your objects to answer a (relatively) simple question of the dataset.**\n",
    "\n",
    "One of the great benefits of classes is their flexibility; they can be applied to anything. For this assignment, you can do these tasks with any dataset. The tasks listed above have been designed to work with (virtually) any dataset. For folks that have recently taken 201 and used a dataset for their final project, you may want to consider using it for this assignment. \n",
    "\n",
    "\n",
    "The following set of tasks are specifically geared towards the following dataset: \n",
    "\n",
    "`https://raw.githubusercontent.com/msu-cmse-courses/cmse202-F22-data/main/HW/Homework_2/netflix_titles.csv`\n",
    "\n",
    "which [comes from here](https://www.kaggle.com/datasets/shivamb/netflix-shows).\n",
    "\n",
    "You may complete the following specific tasks for the Netflix dataset, or you may use a different dataset and complete your own version of these tasks for your chosen dataset."
   ]
  },
  {
   "cell_type": "markdown",
   "id": "6ab70fb1-2e61-4339-bdc5-9a0c44113324",
   "metadata": {},
   "source": [
    "## Part 1: Examine your Dataset\n",
    "\n",
    "#### 1.1 Describing your Dataset (2 Points)\n",
    "&#9989; Use Pandas to read in your dataset. Describe the conetents of this dataset (E.g., the column names, what they represent, etc.)\n",
    "\n"
   ]
  },
  {
   "cell_type": "code",
   "execution_count": 4,
   "id": "c57deeef",
   "metadata": {},
   "outputs": [],
   "source": [
    "import pandas as pd"
   ]
  },
  {
   "cell_type": "code",
   "execution_count": 14,
   "id": "b3117200-8b2c-4174-9189-06f9c29cea68",
   "metadata": {},
   "outputs": [
    {
     "data": {
      "text/html": [
       "<div>\n",
       "<style scoped>\n",
       "    .dataframe tbody tr th:only-of-type {\n",
       "        vertical-align: middle;\n",
       "    }\n",
       "\n",
       "    .dataframe tbody tr th {\n",
       "        vertical-align: top;\n",
       "    }\n",
       "\n",
       "    .dataframe thead th {\n",
       "        text-align: right;\n",
       "    }\n",
       "</style>\n",
       "<table border=\"1\" class=\"dataframe\">\n",
       "  <thead>\n",
       "    <tr style=\"text-align: right;\">\n",
       "      <th></th>\n",
       "      <th>show_id</th>\n",
       "      <th>type</th>\n",
       "      <th>title</th>\n",
       "      <th>director</th>\n",
       "      <th>cast</th>\n",
       "      <th>country</th>\n",
       "      <th>date_added</th>\n",
       "      <th>release_year</th>\n",
       "      <th>rating</th>\n",
       "      <th>duration</th>\n",
       "      <th>listed_in</th>\n",
       "      <th>description</th>\n",
       "    </tr>\n",
       "  </thead>\n",
       "  <tbody>\n",
       "    <tr>\n",
       "      <th>0</th>\n",
       "      <td>s1</td>\n",
       "      <td>Movie</td>\n",
       "      <td>Dick Johnson Is Dead</td>\n",
       "      <td>Kirsten Johnson</td>\n",
       "      <td>NaN</td>\n",
       "      <td>United States</td>\n",
       "      <td>September 25, 2021</td>\n",
       "      <td>2020</td>\n",
       "      <td>PG-13</td>\n",
       "      <td>90 min</td>\n",
       "      <td>Documentaries</td>\n",
       "      <td>As her father nears the end of his life, filmm...</td>\n",
       "    </tr>\n",
       "    <tr>\n",
       "      <th>1</th>\n",
       "      <td>s2</td>\n",
       "      <td>TV Show</td>\n",
       "      <td>Blood &amp; Water</td>\n",
       "      <td>NaN</td>\n",
       "      <td>Ama Qamata, Khosi Ngema, Gail Mabalane, Thaban...</td>\n",
       "      <td>South Africa</td>\n",
       "      <td>September 24, 2021</td>\n",
       "      <td>2021</td>\n",
       "      <td>TV-MA</td>\n",
       "      <td>2 Seasons</td>\n",
       "      <td>International TV Shows, TV Dramas, TV Mysteries</td>\n",
       "      <td>After crossing paths at a party, a Cape Town t...</td>\n",
       "    </tr>\n",
       "    <tr>\n",
       "      <th>2</th>\n",
       "      <td>s3</td>\n",
       "      <td>TV Show</td>\n",
       "      <td>Ganglands</td>\n",
       "      <td>Julien Leclercq</td>\n",
       "      <td>Sami Bouajila, Tracy Gotoas, Samuel Jouy, Nabi...</td>\n",
       "      <td>NaN</td>\n",
       "      <td>September 24, 2021</td>\n",
       "      <td>2021</td>\n",
       "      <td>TV-MA</td>\n",
       "      <td>1 Season</td>\n",
       "      <td>Crime TV Shows, International TV Shows, TV Act...</td>\n",
       "      <td>To protect his family from a powerful drug lor...</td>\n",
       "    </tr>\n",
       "    <tr>\n",
       "      <th>3</th>\n",
       "      <td>s4</td>\n",
       "      <td>TV Show</td>\n",
       "      <td>Jailbirds New Orleans</td>\n",
       "      <td>NaN</td>\n",
       "      <td>NaN</td>\n",
       "      <td>NaN</td>\n",
       "      <td>September 24, 2021</td>\n",
       "      <td>2021</td>\n",
       "      <td>TV-MA</td>\n",
       "      <td>1 Season</td>\n",
       "      <td>Docuseries, Reality TV</td>\n",
       "      <td>Feuds, flirtations and toilet talk go down amo...</td>\n",
       "    </tr>\n",
       "    <tr>\n",
       "      <th>4</th>\n",
       "      <td>s5</td>\n",
       "      <td>TV Show</td>\n",
       "      <td>Kota Factory</td>\n",
       "      <td>NaN</td>\n",
       "      <td>Mayur More, Jitendra Kumar, Ranjan Raj, Alam K...</td>\n",
       "      <td>India</td>\n",
       "      <td>September 24, 2021</td>\n",
       "      <td>2021</td>\n",
       "      <td>TV-MA</td>\n",
       "      <td>2 Seasons</td>\n",
       "      <td>International TV Shows, Romantic TV Shows, TV ...</td>\n",
       "      <td>In a city of coaching centers known to train I...</td>\n",
       "    </tr>\n",
       "    <tr>\n",
       "      <th>...</th>\n",
       "      <td>...</td>\n",
       "      <td>...</td>\n",
       "      <td>...</td>\n",
       "      <td>...</td>\n",
       "      <td>...</td>\n",
       "      <td>...</td>\n",
       "      <td>...</td>\n",
       "      <td>...</td>\n",
       "      <td>...</td>\n",
       "      <td>...</td>\n",
       "      <td>...</td>\n",
       "      <td>...</td>\n",
       "    </tr>\n",
       "    <tr>\n",
       "      <th>8802</th>\n",
       "      <td>s8803</td>\n",
       "      <td>Movie</td>\n",
       "      <td>Zodiac</td>\n",
       "      <td>David Fincher</td>\n",
       "      <td>Mark Ruffalo, Jake Gyllenhaal, Robert Downey J...</td>\n",
       "      <td>United States</td>\n",
       "      <td>November 20, 2019</td>\n",
       "      <td>2007</td>\n",
       "      <td>R</td>\n",
       "      <td>158 min</td>\n",
       "      <td>Cult Movies, Dramas, Thrillers</td>\n",
       "      <td>A political cartoonist, a crime reporter and a...</td>\n",
       "    </tr>\n",
       "    <tr>\n",
       "      <th>8803</th>\n",
       "      <td>s8804</td>\n",
       "      <td>TV Show</td>\n",
       "      <td>Zombie Dumb</td>\n",
       "      <td>NaN</td>\n",
       "      <td>NaN</td>\n",
       "      <td>NaN</td>\n",
       "      <td>July 1, 2019</td>\n",
       "      <td>2018</td>\n",
       "      <td>TV-Y7</td>\n",
       "      <td>2 Seasons</td>\n",
       "      <td>Kids' TV, Korean TV Shows, TV Comedies</td>\n",
       "      <td>While living alone in a spooky town, a young g...</td>\n",
       "    </tr>\n",
       "    <tr>\n",
       "      <th>8804</th>\n",
       "      <td>s8805</td>\n",
       "      <td>Movie</td>\n",
       "      <td>Zombieland</td>\n",
       "      <td>Ruben Fleischer</td>\n",
       "      <td>Jesse Eisenberg, Woody Harrelson, Emma Stone, ...</td>\n",
       "      <td>United States</td>\n",
       "      <td>November 1, 2019</td>\n",
       "      <td>2009</td>\n",
       "      <td>R</td>\n",
       "      <td>88 min</td>\n",
       "      <td>Comedies, Horror Movies</td>\n",
       "      <td>Looking to survive in a world taken over by zo...</td>\n",
       "    </tr>\n",
       "    <tr>\n",
       "      <th>8805</th>\n",
       "      <td>s8806</td>\n",
       "      <td>Movie</td>\n",
       "      <td>Zoom</td>\n",
       "      <td>Peter Hewitt</td>\n",
       "      <td>Tim Allen, Courteney Cox, Chevy Chase, Kate Ma...</td>\n",
       "      <td>United States</td>\n",
       "      <td>January 11, 2020</td>\n",
       "      <td>2006</td>\n",
       "      <td>PG</td>\n",
       "      <td>88 min</td>\n",
       "      <td>Children &amp; Family Movies, Comedies</td>\n",
       "      <td>Dragged from civilian life, a former superhero...</td>\n",
       "    </tr>\n",
       "    <tr>\n",
       "      <th>8806</th>\n",
       "      <td>s8807</td>\n",
       "      <td>Movie</td>\n",
       "      <td>Zubaan</td>\n",
       "      <td>Mozez Singh</td>\n",
       "      <td>Vicky Kaushal, Sarah-Jane Dias, Raaghav Chanan...</td>\n",
       "      <td>India</td>\n",
       "      <td>March 2, 2019</td>\n",
       "      <td>2015</td>\n",
       "      <td>TV-14</td>\n",
       "      <td>111 min</td>\n",
       "      <td>Dramas, International Movies, Music &amp; Musicals</td>\n",
       "      <td>A scrappy but poor boy worms his way into a ty...</td>\n",
       "    </tr>\n",
       "  </tbody>\n",
       "</table>\n",
       "<p>8807 rows × 12 columns</p>\n",
       "</div>"
      ],
      "text/plain": [
       "     show_id     type                  title         director  \\\n",
       "0         s1    Movie   Dick Johnson Is Dead  Kirsten Johnson   \n",
       "1         s2  TV Show          Blood & Water              NaN   \n",
       "2         s3  TV Show              Ganglands  Julien Leclercq   \n",
       "3         s4  TV Show  Jailbirds New Orleans              NaN   \n",
       "4         s5  TV Show           Kota Factory              NaN   \n",
       "...      ...      ...                    ...              ...   \n",
       "8802   s8803    Movie                 Zodiac    David Fincher   \n",
       "8803   s8804  TV Show            Zombie Dumb              NaN   \n",
       "8804   s8805    Movie             Zombieland  Ruben Fleischer   \n",
       "8805   s8806    Movie                   Zoom     Peter Hewitt   \n",
       "8806   s8807    Movie                 Zubaan      Mozez Singh   \n",
       "\n",
       "                                                   cast        country  \\\n",
       "0                                                   NaN  United States   \n",
       "1     Ama Qamata, Khosi Ngema, Gail Mabalane, Thaban...   South Africa   \n",
       "2     Sami Bouajila, Tracy Gotoas, Samuel Jouy, Nabi...            NaN   \n",
       "3                                                   NaN            NaN   \n",
       "4     Mayur More, Jitendra Kumar, Ranjan Raj, Alam K...          India   \n",
       "...                                                 ...            ...   \n",
       "8802  Mark Ruffalo, Jake Gyllenhaal, Robert Downey J...  United States   \n",
       "8803                                                NaN            NaN   \n",
       "8804  Jesse Eisenberg, Woody Harrelson, Emma Stone, ...  United States   \n",
       "8805  Tim Allen, Courteney Cox, Chevy Chase, Kate Ma...  United States   \n",
       "8806  Vicky Kaushal, Sarah-Jane Dias, Raaghav Chanan...          India   \n",
       "\n",
       "              date_added  release_year rating   duration  \\\n",
       "0     September 25, 2021          2020  PG-13     90 min   \n",
       "1     September 24, 2021          2021  TV-MA  2 Seasons   \n",
       "2     September 24, 2021          2021  TV-MA   1 Season   \n",
       "3     September 24, 2021          2021  TV-MA   1 Season   \n",
       "4     September 24, 2021          2021  TV-MA  2 Seasons   \n",
       "...                  ...           ...    ...        ...   \n",
       "8802   November 20, 2019          2007      R    158 min   \n",
       "8803        July 1, 2019          2018  TV-Y7  2 Seasons   \n",
       "8804    November 1, 2019          2009      R     88 min   \n",
       "8805    January 11, 2020          2006     PG     88 min   \n",
       "8806       March 2, 2019          2015  TV-14    111 min   \n",
       "\n",
       "                                              listed_in  \\\n",
       "0                                         Documentaries   \n",
       "1       International TV Shows, TV Dramas, TV Mysteries   \n",
       "2     Crime TV Shows, International TV Shows, TV Act...   \n",
       "3                                Docuseries, Reality TV   \n",
       "4     International TV Shows, Romantic TV Shows, TV ...   \n",
       "...                                                 ...   \n",
       "8802                     Cult Movies, Dramas, Thrillers   \n",
       "8803             Kids' TV, Korean TV Shows, TV Comedies   \n",
       "8804                            Comedies, Horror Movies   \n",
       "8805                 Children & Family Movies, Comedies   \n",
       "8806     Dramas, International Movies, Music & Musicals   \n",
       "\n",
       "                                            description  \n",
       "0     As her father nears the end of his life, filmm...  \n",
       "1     After crossing paths at a party, a Cape Town t...  \n",
       "2     To protect his family from a powerful drug lor...  \n",
       "3     Feuds, flirtations and toilet talk go down amo...  \n",
       "4     In a city of coaching centers known to train I...  \n",
       "...                                                 ...  \n",
       "8802  A political cartoonist, a crime reporter and a...  \n",
       "8803  While living alone in a spooky town, a young g...  \n",
       "8804  Looking to survive in a world taken over by zo...  \n",
       "8805  Dragged from civilian life, a former superhero...  \n",
       "8806  A scrappy but poor boy worms his way into a ty...  \n",
       "\n",
       "[8807 rows x 12 columns]"
      ]
     },
     "execution_count": 14,
     "metadata": {},
     "output_type": "execute_result"
    }
   ],
   "source": [
    "netflix =pd.read_csv(\"netflix_titles.csv\")\n",
    "netflix"
   ]
  },
  {
   "cell_type": "markdown",
   "id": "7589ad90-4098-4e6f-9b74-bd8ac46c9031",
   "metadata": {},
   "source": [
    "*There is a column for show_id, type(move, tv show, ect.), title(movie title), director, cast(who was in the production), country(where the production was made), date_added, release_year, rating(what audience),duration, listed_in(Reality Tv, Documentaries, ect.), description(an intro to the production).*"
   ]
  },
  {
   "cell_type": "markdown",
   "id": "51aa0418-9da6-445b-bc97-1e3e19365ce6",
   "metadata": {
    "tags": []
   },
   "source": [
    "#### 1.2 Dropping Data Columns (2 Points)\n",
    "&#9989; We won't be using the first and last columns of this dataframe, so drop them."
   ]
  },
  {
   "cell_type": "code",
   "execution_count": 15,
   "id": "0dca0060-6925-409e-948f-619544bd7b27",
   "metadata": {},
   "outputs": [
    {
     "name": "stdout",
     "output_type": "stream",
     "text": [
      "         type                  title         director  \\\n",
      "0       Movie   Dick Johnson Is Dead  Kirsten Johnson   \n",
      "1     TV Show          Blood & Water              NaN   \n",
      "2     TV Show              Ganglands  Julien Leclercq   \n",
      "3     TV Show  Jailbirds New Orleans              NaN   \n",
      "4     TV Show           Kota Factory              NaN   \n",
      "...       ...                    ...              ...   \n",
      "8802    Movie                 Zodiac    David Fincher   \n",
      "8803  TV Show            Zombie Dumb              NaN   \n",
      "8804    Movie             Zombieland  Ruben Fleischer   \n",
      "8805    Movie                   Zoom     Peter Hewitt   \n",
      "8806    Movie                 Zubaan      Mozez Singh   \n",
      "\n",
      "                                                   cast        country  \\\n",
      "0                                                   NaN  United States   \n",
      "1     Ama Qamata, Khosi Ngema, Gail Mabalane, Thaban...   South Africa   \n",
      "2     Sami Bouajila, Tracy Gotoas, Samuel Jouy, Nabi...            NaN   \n",
      "3                                                   NaN            NaN   \n",
      "4     Mayur More, Jitendra Kumar, Ranjan Raj, Alam K...          India   \n",
      "...                                                 ...            ...   \n",
      "8802  Mark Ruffalo, Jake Gyllenhaal, Robert Downey J...  United States   \n",
      "8803                                                NaN            NaN   \n",
      "8804  Jesse Eisenberg, Woody Harrelson, Emma Stone, ...  United States   \n",
      "8805  Tim Allen, Courteney Cox, Chevy Chase, Kate Ma...  United States   \n",
      "8806  Vicky Kaushal, Sarah-Jane Dias, Raaghav Chanan...          India   \n",
      "\n",
      "              date_added  release_year rating   duration  \\\n",
      "0     September 25, 2021          2020  PG-13     90 min   \n",
      "1     September 24, 2021          2021  TV-MA  2 Seasons   \n",
      "2     September 24, 2021          2021  TV-MA   1 Season   \n",
      "3     September 24, 2021          2021  TV-MA   1 Season   \n",
      "4     September 24, 2021          2021  TV-MA  2 Seasons   \n",
      "...                  ...           ...    ...        ...   \n",
      "8802   November 20, 2019          2007      R    158 min   \n",
      "8803        July 1, 2019          2018  TV-Y7  2 Seasons   \n",
      "8804    November 1, 2019          2009      R     88 min   \n",
      "8805    January 11, 2020          2006     PG     88 min   \n",
      "8806       March 2, 2019          2015  TV-14    111 min   \n",
      "\n",
      "                                              listed_in  \n",
      "0                                         Documentaries  \n",
      "1       International TV Shows, TV Dramas, TV Mysteries  \n",
      "2     Crime TV Shows, International TV Shows, TV Act...  \n",
      "3                                Docuseries, Reality TV  \n",
      "4     International TV Shows, Romantic TV Shows, TV ...  \n",
      "...                                                 ...  \n",
      "8802                     Cult Movies, Dramas, Thrillers  \n",
      "8803             Kids' TV, Korean TV Shows, TV Comedies  \n",
      "8804                            Comedies, Horror Movies  \n",
      "8805                 Children & Family Movies, Comedies  \n",
      "8806     Dramas, International Movies, Music & Musicals  \n",
      "\n",
      "[8807 rows x 10 columns]\n"
     ]
    }
   ],
   "source": [
    "netflix = netflix.drop(['show_id', 'description'], axis=1)\n",
    "print(netflix)"
   ]
  },
  {
   "cell_type": "markdown",
   "id": "5f88cf42-0893-4eee-a059-3c15588dd376",
   "metadata": {},
   "source": [
    "#### 1.3 Thinking about Organizing Data (2 Points)\n",
    "\n",
    "&#9989; In order to organize things it is useful to classify them into categories. Imagine that each line of the dataset is an instance of an object(s). How would you organize this dataset using object oriented programming? What would the parent class and its child classes be? Think of the Zoo and Animal classes "
   ]
  },
  {
   "cell_type": "markdown",
   "id": "44de8ab0-09f2-4b61-bf92-a032d33705b7",
   "metadata": {},
   "source": [
    "*I would create a parent class called TV that has title, type, and date added so that the general info from each movie or tv show. Then I would have different child classes that contain some of the information that not all the titles have or that is more specific. This allows the TV parent class to define all the general inforamtion that every child class will use.*"
   ]
  },
  {
   "cell_type": "markdown",
   "id": "34a25f74-124f-4d6b-9998-99a66532d380",
   "metadata": {},
   "source": [
    "## Part 2: Creating your (Parent) Class \n",
    "\n",
    "#### 2.1: Creating the Class (9 Points)\n",
    "\n",
    "&#9989; Create a class called `Production`. The Class should have the attributes `title`, `release_year`, and `genre`. The class should also have `get` and `set` methods for each of the three attributes."
   ]
  },
  {
   "cell_type": "code",
   "execution_count": 87,
   "id": "a2fd9251-92e6-4746-9d3f-0f4573e5ee72",
   "metadata": {},
   "outputs": [],
   "source": [
    "import matplotlib.pyplot as plt\n",
    "import random\n",
    "import numpy as np\n",
    "from IPython.display import display, clear_output\n",
    "import time\n",
    "class Production:\n",
    "    \n",
    "    def __init__(self, title, release_year, genre):\n",
    "    \n",
    "        self.title = title \n",
    "        self.release_year = release_year\n",
    "        self.genre = genre\n",
    "    \n",
    "    def set_title(self, title):\n",
    "        self.title = title\n",
    "        \n",
    "    def set_release_year(self, release_year):\n",
    "        self.release_year = release_year\n",
    "        \n",
    "    def set_genre(self, genre):\n",
    "        self.genre = genre\n",
    "        \n",
    "    def get_title(self):\n",
    "        return self.title\n",
    "    \n",
    "    def get_release_year(self):\n",
    "        return self.release_year\n",
    "    \n",
    "    def get_genre(self):\n",
    "        return self.genre\n",
    "\n",
    "    "
   ]
  },
  {
   "cell_type": "markdown",
   "id": "9d567b90-d381-4cd8-b333-3f30c80b250e",
   "metadata": {},
   "source": [
    "#### 2.2: Testing the Class (2 Points)\n",
    "\n",
    "&#9989; Select a random entry in the dataset and turn it into a `Production` class object. Print out the title and release year to make sure it is working correctly."
   ]
  },
  {
   "cell_type": "code",
   "execution_count": 88,
   "id": "5654bf88-25a1-4163-9fc9-82b6d94d8cf7",
   "metadata": {},
   "outputs": [
    {
     "name": "stdout",
     "output_type": "stream",
     "text": [
      "Zoom 2006\n"
     ]
    }
   ],
   "source": [
    "Zoom = Production('Zoom',2006,'Children & Family Movies, Comedies')\n",
    "print(Zoom.get_title(), Zoom.get_release_year())"
   ]
  },
  {
   "cell_type": "markdown",
   "id": "b15dc8e5-c0e8-4621-a423-182452aac311",
   "metadata": {
    "tags": []
   },
   "source": [
    "---\n",
    "### &#128721; STOP (1 Point)\n",
    "**Pause to commit your changes to your Git repository!**\n",
    "\n",
    "Take a moment to save your notebook, commit the changes to your Git repository. Merge the changes in the main branch, and push the changes to GitHub.\n",
    "\n",
    "---"
   ]
  },
  {
   "cell_type": "markdown",
   "id": "c864abb1-1a1e-4c20-a60a-fa715066f905",
   "metadata": {
    "tags": []
   },
   "source": [
    "## Part 3: Creating your (Child) Classes\n",
    "\n",
    "#### 3.1 Making the Child Classes (12 Points)\n",
    "\n",
    "&#9989; Create child classes `Movie` and `TV_Show`. The `Movie` child class should have the added attribute `director` and the `TV_Show` subclass should have the attribute `seasons`. Make sure that each of the child classes has an `__init__` function that takes all of the necessary information to create an instance of that class. \n",
    "\n",
    "**Note:** Your child classes should use the `super()` function."
   ]
  },
  {
   "cell_type": "code",
   "execution_count": 89,
   "id": "14f0a54c-9892-4e14-a102-21dd1c9d7f6a",
   "metadata": {},
   "outputs": [],
   "source": [
    "class Movie(Production):\n",
    "    \n",
    "    def __init__(self, title, release_year, genre, director):\n",
    "        super().__init__(title, release_year, genre)\n",
    "        self.director = director\n",
    "        \n",
    "    def set_director(self, director):\n",
    "        self.director = director\n",
    "        \n",
    "    def get_director(self):\n",
    "        return self.director\n",
    "            "
   ]
  },
  {
   "cell_type": "code",
   "execution_count": 90,
   "id": "fd899652",
   "metadata": {},
   "outputs": [],
   "source": [
    "class TV_Show(Production):\n",
    "    \n",
    "    def __init__(self, title, release_year, genre, seasons):\n",
    "        super().__init__(title, release_year, genre)\n",
    "        self.seasons = seasons\n",
    "        \n",
    "    def set_seasons(self,seasons):\n",
    "        self.seasons = seasons\n",
    "        \n",
    "    def get_seasons(self):\n",
    "        return self.seasons\n",
    "    "
   ]
  },
  {
   "cell_type": "markdown",
   "id": "54465525-b7ec-4441-ad88-dce654856df7",
   "metadata": {},
   "source": [
    "#### 3.2: Testing Child Classes (4 points)\n",
    "\n",
    "&#9989;  Create an instance of both of your objects to ensure that they're working. Use any entry you like to create your objects. Print the director for the `Movie` and the number of seasons for the `TV_Show`."
   ]
  },
  {
   "cell_type": "code",
   "execution_count": 91,
   "id": "59229981-55dd-464a-a4dc-dc9a6b5dbcd7",
   "metadata": {},
   "outputs": [
    {
     "name": "stdout",
     "output_type": "stream",
     "text": [
      "Blood & Water 2\n",
      "Zodiac David Fincher\n"
     ]
    }
   ],
   "source": [
    "BW = TV_Show('Blood & Water', 2021, 'International TV Shows, TV Dramas, TV Mysteries', 2)\n",
    "Zodiac = Movie('Zodiac', 2007, 'Cult Movies, Dramas, Thrillers', 'David Fincher')\n",
    "\n",
    "print(BW.get_title(), BW.get_seasons())\n",
    "print(Zodiac.get_title(), Zodiac.get_director())"
   ]
  },
  {
   "cell_type": "markdown",
   "id": "e6813740-6e11-483c-b09f-d26acc218d5c",
   "metadata": {},
   "source": [
    "## Part 4: Creating your Objects\n",
    "\n",
    "#### 4.1: Make all of the Objects! (6 Points)\n",
    "\n",
    "&#9989; Write a piece of code that uses your dataset to build a list of `Movie` and a list of `TV_Show` objects."
   ]
  },
  {
   "cell_type": "code",
   "execution_count": 92,
   "id": "94c9d4c7-ab8a-4687-9fa2-82181ac81590",
   "metadata": {},
   "outputs": [],
   "source": [
    "netflix.iloc[0][1]\n",
    "Movies = []\n",
    "Shows = []\n",
    "for x in range(len(netflix)):\n",
    "    \n",
    "    if netflix.iloc[x][0] == 'Movie':\n",
    "        data = Movie(netflix.iloc[x][1], netflix.iloc[x][6], netflix.iloc[x][9], netflix.iloc[x][2])\n",
    "        Movies.append(data)\n",
    "    \n",
    "for y in range(len(netflix)):\n",
    "    if netflix.iloc[y][0] == 'TV Show':\n",
    "\n",
    "        data = Movie(netflix.iloc[y][1], netflix.iloc[y][6], netflix.iloc[y][9], netflix.iloc[y][2])\n",
    "        \n",
    "        Shows.append(data)"
   ]
  },
  {
   "cell_type": "markdown",
   "id": "4bbe677e-a049-4d93-b233-67a1c6083521",
   "metadata": {
    "tags": []
   },
   "source": [
    "#### 4.2: Make sure the `Movie`s and `TV_Show`s work! (2 Points)\n",
    "\n",
    "&#9989; To test whether you succesfully created the `Movie` and `TV_Show` objects, print out the titles and genres for the first handful (5-10) of `TV_Show` objects."
   ]
  },
  {
   "cell_type": "code",
   "execution_count": 93,
   "id": "e0501942-a13b-4167-9cd7-cfe4ef963662",
   "metadata": {},
   "outputs": [
    {
     "name": "stdout",
     "output_type": "stream",
     "text": [
      "Blood & Water International TV Shows, TV Dramas, TV Mysteries\n",
      "Ganglands Crime TV Shows, International TV Shows, TV Action & Adventure\n",
      "Jailbirds New Orleans Docuseries, Reality TV\n",
      "Kota Factory International TV Shows, Romantic TV Shows, TV Comedies\n",
      "Midnight Mass TV Dramas, TV Horror, TV Mysteries\n",
      "The Great British Baking Show British TV Shows, Reality TV\n",
      "Vendetta: Truth, Lies and The Mafia Crime TV Shows, Docuseries, International TV Shows\n",
      "Bangkok Breaking Crime TV Shows, International TV Shows, TV Action & Adventure\n",
      "Crime Stories: India Detectives British TV Shows, Crime TV Shows, Docuseries\n",
      "Dear White People TV Comedies, TV Dramas\n"
     ]
    }
   ],
   "source": [
    "for show in range(10):\n",
    "    print(Shows[show].get_title(), Shows[show].get_genre())"
   ]
  },
  {
   "cell_type": "markdown",
   "id": "284d1f4a-269c-4ee9-9d79-1b48cdf3b6d6",
   "metadata": {},
   "source": [
    "---\n",
    "### &#128721; STOP (1 Point)\n",
    "**Pause to commit your changes to your Git repository!**\n",
    "\n",
    "Take a moment to save your notebook, commit the changes to your Git repository. Merge the changes in the main branch, and push the changes to GitHub.\n",
    "\n",
    "---"
   ]
  },
  {
   "cell_type": "markdown",
   "id": "d855eff5-acd9-463f-bb50-56a716f90a56",
   "metadata": {
    "tags": []
   },
   "source": [
    "## Part 5: Answering your Question\n",
    "\n",
    "\n",
    "We’re going to answer the question **“How has the number of Drama TV Shows changed over time?”**\n",
    "\n",
    "To answer this question, we’ll need to look at the `release_year` and `genre` variables for each of our `TV_Show` objects. **But** we have a small problem. \n",
    "\n",
    "#### 5.1 Identifying the Issue (1 Point)\n",
    "&#9989; To see what that is, **print out the `genre` of a random `TV_Show` object.**"
   ]
  },
  {
   "cell_type": "code",
   "execution_count": 94,
   "id": "2e97eaae-81b4-49c4-8544-bcf7b07b3e64",
   "metadata": {},
   "outputs": [
    {
     "name": "stdout",
     "output_type": "stream",
     "text": [
      "Crime TV Shows, Docuseries, International TV Shows\n"
     ]
    }
   ],
   "source": [
    "print(Shows[6].get_genre())"
   ]
  },
  {
   "cell_type": "markdown",
   "id": "ce2c6015-5c0f-4a66-982e-852995b42cbf",
   "metadata": {},
   "source": [
    "We need to be able to group the TV shows based on their genre, but TV shows have multiple genres! We need to be able to break apart these genres. \n",
    "\n",
    "\n",
    "#### 5.2: Fixing the Issue (2 Points)\n",
    "&#9989; Write a piece of code that will split apart the `genre` string into a `list` of genres. Make sure your code is working by testing it on the list of genres from the previous problem. *Note: This will involve tools we haven’t talked about in class. Use Google to help you solve this problem!*"
   ]
  },
  {
   "cell_type": "code",
   "execution_count": 95,
   "id": "1c0805a7-e8d9-4a9a-a40b-0acce0384b14",
   "metadata": {},
   "outputs": [
    {
     "name": "stdout",
     "output_type": "stream",
     "text": [
      "['Crime TV Shows', 'Docuseries', 'International TV Shows']\n"
     ]
    }
   ],
   "source": [
    "print(Shows[6].get_genre().split(', '))"
   ]
  },
  {
   "cell_type": "markdown",
   "id": "9e1a6035-96f6-4b71-abeb-0cbf88edf2b9",
   "metadata": {},
   "source": [
    "#### 5.3: Applying the Fix to our Class (3 Points)\n",
    "&#9989;  Take the code that you wrote in the previous problem and turn it into a method for the `Production` class. Run this method within the `__init__` method so that every `Production` object comes into being with the genres split apart into a list."
   ]
  },
  {
   "cell_type": "code",
   "execution_count": 96,
   "id": "085971b9-c7d9-43f8-940b-0c7e702ff37e",
   "metadata": {},
   "outputs": [],
   "source": [
    "class Production:\n",
    "    def __init__(self, title, release_year, genre):\n",
    "        self.genre = genre.split(', ')\n",
    "        self.title = title \n",
    "        self.release_year = release_year\n",
    "    \n",
    "    def set_title(self, title):\n",
    "        self.title = title\n",
    "        \n",
    "    def set_release_year(self, release_year):\n",
    "        self.release_year = release_year\n",
    "        \n",
    "    def set_genre(self, genre):\n",
    "        self.genre = genre\n",
    "        \n",
    "    def get_title(self):\n",
    "        return self.title\n",
    "    \n",
    "    def get_release_year(self):\n",
    "        return self.release_year\n",
    "    \n",
    "    def get_genre(self):\n",
    "        return self.genre"
   ]
  },
  {
   "cell_type": "markdown",
   "id": "a4800d85-c1a0-4def-b62f-0a07ad60ca5f",
   "metadata": {},
   "source": [
    "#### 5.4: Rebuilding (1 Point)\n",
    "\n",
    "&#9989; Rebuild your `Movie` and `TV_Show` objects with this new addition to the `Production` class. NOTE: you will need to rerun your code from Part 3 for this to work."
   ]
  },
  {
   "cell_type": "code",
   "execution_count": 97,
   "id": "eaa196f7-79ab-4804-9e63-67eb4f1d9df6",
   "metadata": {},
   "outputs": [],
   "source": [
    "class Movie(Production):\n",
    "    \n",
    "    def __init__(self, title, release_year, genre, director):\n",
    "        super().__init__(title, release_year, genre)\n",
    "        self.director = director\n",
    "        \n",
    "    def set_director(self, director):\n",
    "        self.director = director\n",
    "        \n",
    "    def get_director(self):\n",
    "        return self.director\n",
    "    \n",
    "class TV_Show(Production):\n",
    "    \n",
    "    def __init__(self, title, release_year, genre, seasons):\n",
    "        super().__init__(title, release_year, genre)\n",
    "        self.seasons = seasons\n",
    "        \n",
    "    def set_seasons(self,seasons):\n",
    "        self.seasons = seasons\n",
    "        \n",
    "    def get_seasons(self):\n",
    "        return self.seasons"
   ]
  },
  {
   "cell_type": "markdown",
   "id": "c1ba3538-da93-4eeb-af25-e22104c74fc5",
   "metadata": {},
   "source": [
    "#### 5.5: Am I the Drama...? (1 Point)\n",
    "\n",
    "&#9989; Select all of the `TV_Show` objects that have drama as one of their genres."
   ]
  },
  {
   "cell_type": "code",
   "execution_count": 99,
   "id": "9c33d12b-e30c-4f0a-9e5b-2b3e78bc902f",
   "metadata": {},
   "outputs": [
    {
     "name": "stdout",
     "output_type": "stream",
     "text": [
      "Chicago Med\n",
      "Pose\n",
      "Halston\n",
      "Selena: The Series\n",
      "Heartland\n",
      "The Queen's Gambit\n",
      "Evil\n",
      "Greenleaf\n",
      "Dynasty\n",
      "Madam Secretary\n",
      "Hollywood\n",
      "Self Made: Inspired by the Life of Madam C.J. Walker\n",
      "Spinning Out\n",
      "Dolly Parton's Heartstrings\n",
      "Knightfall\n",
      "Tales of the City\n",
      "Northern Rescue\n",
      "Life Sentence\n",
      "The Night Shift\n",
      "Halt and Catch Fire\n",
      "TURN: Washington's Spies\n",
      "Godless\n",
      "Reign\n",
      "Gypsy\n",
      "The Get Down\n",
      "The Borgias\n",
      "A.D. Kingdom and Empire\n",
      "Highway to Heaven\n",
      "Mad Men\n",
      "Shaka Zulu\n",
      "Tales of the City (1993)\n",
      "The Fosters\n",
      "The Tudors\n",
      "The West Wing\n",
      "When Calls the Heart\n"
     ]
    }
   ],
   "source": [
    "for show in range(len(Shows)):\n",
    "    if Shows[show].get_genre() == 'TV Dramas':\n",
    "        print(Shows[show].get_title())"
   ]
  },
  {
   "cell_type": "markdown",
   "id": "1319c924-ee1c-474e-b3bb-609796bc8283",
   "metadata": {},
   "source": [
    "#### 5.6: Release Years (1 Point)\n",
    "\n",
    "&#9989; Use your list of `TV_Show` objects to create a list of all of the release years that Drama TV shows came out."
   ]
  },
  {
   "cell_type": "code",
   "execution_count": 101,
   "id": "b0427fff-9552-4a33-93b4-3fde834c51d4",
   "metadata": {},
   "outputs": [],
   "source": [
    "tv_drama_year = []\n",
    "for show in range(len(Shows)):\n",
    "    \n",
    "    if Shows[show].get_genre() == 'TV Dramas':\n",
    "        tv_drama_year.append(Shows[show].get_release_year())"
   ]
  },
  {
   "cell_type": "markdown",
   "id": "a147e4d9-943a-4d4d-acbd-369990d209f4",
   "metadata": {},
   "source": [
    "#### 5.7: Counting the Years (2 Points)\n",
    "\n",
    "&#9989; Make two lists, one with release years and the other with the number of drama TV shows released during that year. [This page from Stack Overflow](https://stackoverflow.com/questions/2161752/how-to-count-the-frequency-of-the-elements-in-an-unordered-list) may be useful.\n"
   ]
  },
  {
   "cell_type": "code",
   "execution_count": 103,
   "id": "5fe23f4a-8b9c-467b-9c87-d4338eb7aecd",
   "metadata": {},
   "outputs": [],
   "source": [
    "from collections import Counter\n",
    "Counter = Counter(drama_release)\n",
    "quantity, year = c.values(), c.keys()"
   ]
  },
  {
   "cell_type": "markdown",
   "id": "bcfe1f7f-87b0-4767-b5e6-66f5d7c9d5ca",
   "metadata": {},
   "source": [
    "#### 5.8: It isn't Real Unitl you Make a Plot (2 Points)\n",
    "\n",
    "&#9989; Make a plot showing the number of dramas versus release year."
   ]
  },
  {
   "cell_type": "code",
   "execution_count": 104,
   "id": "817fe416-3afd-4f90-afba-ea8fc455a014",
   "metadata": {},
   "outputs": [
    {
     "data": {
      "text/plain": [
       "[<matplotlib.lines.Line2D at 0x7fb52b791f10>]"
      ]
     },
     "execution_count": 104,
     "metadata": {},
     "output_type": "execute_result"
    },
    {
     "data": {
      "image/png": "[encoded data removed]",
      "text/plain": [
       "<Figure size 432x288 with 1 Axes>"
      ]
     },
     "metadata": {
      "needs_background": "light"
     },
     "output_type": "display_data"
    }
   ],
   "source": [
    "plt.plot(year, quantity)"
   ]
  },
  {
   "cell_type": "markdown",
   "id": "d6387b58-f6db-4c19-8f53-00515dee82aa",
   "metadata": {},
   "source": [
    "---\n",
    "### &#128721; STOP (1 Point)\n",
    "**Pause to commit your changes to your Git repository!**\n",
    "\n",
    "Take a moment to save your notebook, commit the changes to your Git repository. Merge the changes in the main branch, and push the changes to GitHub.\n",
    "\n",
    "---"
   ]
  },
  {
   "cell_type": "markdown",
   "id": "8f271f51-e4d3-4481-916a-3965d9c96f33",
   "metadata": {
    "tags": []
   },
   "source": [
    "### Congratulations, you're done!"
   ]
  },
  {
   "cell_type": "markdown",
   "id": "b2f3c3d8-8f71-4b0e-9d7c-d52e66bf24cc",
   "metadata": {},
   "source": [
    "&#169; Copyright 2021,  Department of Computational Mathematics, Science and Engineering at Michigan State University"
   ]
  }
 ],
 "metadata": {
  "kernelspec": {
   "display_name": "Python 3 (ipykernel)",
   "language": "python",
   "name": "python3"
  },
  "language_info": {
   "codemirror_mode": {
    "name": "ipython",
    "version": 3
   },
   "file_extension": ".py",
   "mimetype": "text/x-python",
   "name": "python",
   "nbconvert_exporter": "python",
   "pygments_lexer": "ipython3",
   "version": "3.9.7"
  }
 },
 "nbformat": 4,
 "nbformat_minor": 5
}
